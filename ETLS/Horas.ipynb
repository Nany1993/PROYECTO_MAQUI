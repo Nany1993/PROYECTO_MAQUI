{
 "cells": [
  {
   "cell_type": "code",
   "execution_count": 6,
   "metadata": {},
   "outputs": [],
   "source": [
    "import pandas as pd\n",
    "from datetime import datetime"
   ]
  },
  {
   "cell_type": "code",
   "execution_count": 7,
   "metadata": {},
   "outputs": [],
   "source": [
    "df_Horas = pd.read_excel(\"C:/Users/nany_/Escritorio/PROYECTO MAQUIGOLDEN/HORAS_MAQUINA_1.xlsx\")"
   ]
  },
  {
   "cell_type": "code",
   "execution_count": 10,
   "metadata": {},
   "outputs": [
    {
     "name": "stdout",
     "output_type": "stream",
     "text": [
      "Dataset transformado exportado\n"
     ]
    }
   ],
   "source": [
    "## Exportamos archivo completo y lo cambiamos en el indicador de acpm\n",
    "\n",
    "df_acpm = pd.DataFrame(df_Horas)\n",
    "df_acpm.to_csv('df_Horas.csv') \n",
    "print(\"Dataset transformado exportado\")"
   ]
  }
 ],
 "metadata": {
  "kernelspec": {
   "display_name": "maquigolden",
   "language": "python",
   "name": "python3"
  },
  "language_info": {
   "codemirror_mode": {
    "name": "ipython",
    "version": 3
   },
   "file_extension": ".py",
   "mimetype": "text/x-python",
   "name": "python",
   "nbconvert_exporter": "python",
   "pygments_lexer": "ipython3",
   "version": "3.9.13"
  },
  "orig_nbformat": 4
 },
 "nbformat": 4,
 "nbformat_minor": 2
}
