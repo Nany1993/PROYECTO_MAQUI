{
 "cells": [
  {
   "cell_type": "code",
   "execution_count": 1,
   "metadata": {},
   "outputs": [],
   "source": [
    "import pandas as pd\n",
    "from datetime import datetime"
   ]
  },
  {
   "cell_type": "code",
   "execution_count": null,
   "metadata": {},
   "outputs": [],
   "source": [
    "#pip install openpyxl ## para abrir archivos excel"
   ]
  },
  {
   "attachments": {},
   "cell_type": "markdown",
   "metadata": {},
   "source": [
    "2-Cargamos el dataframe de Gastos"
   ]
  },
  {
   "cell_type": "code",
   "execution_count": 16,
   "metadata": {},
   "outputs": [],
   "source": [
    "df_gastos = pd.read_excel(\"C:/Users/nany_/Escritorio/PROYECTO MAQUIGOLDEN/Gastos_Operacion.xlsx\")"
   ]
  },
  {
   "cell_type": "code",
   "execution_count": 20,
   "metadata": {},
   "outputs": [],
   "source": [
    "df_gastos[\"Valor\"].fillna(0, inplace=True)"
   ]
  },
  {
   "cell_type": "code",
   "execution_count": 21,
   "metadata": {},
   "outputs": [
    {
     "data": {
      "text/plain": [
       "Fecha                  1\n",
       "Descripcion            0\n",
       "Clasificacion_Gasto    0\n",
       "Tipo                   0\n",
       "Conductor              0\n",
       "Equipo/Placa           0\n",
       "Valor                  0\n",
       "dtype: int64"
      ]
     },
     "execution_count": 21,
     "metadata": {},
     "output_type": "execute_result"
    }
   ],
   "source": [
    "df_gastos.isnull().sum()"
   ]
  },
  {
   "cell_type": "code",
   "execution_count": 22,
   "metadata": {},
   "outputs": [
    {
     "data": {
      "text/plain": [
       "Fecha                  datetime64[ns]\n",
       "Descripcion                    object\n",
       "Clasificacion_Gasto            object\n",
       "Tipo                           object\n",
       "Conductor                      object\n",
       "Equipo/Placa                   object\n",
       "Valor                         float64\n",
       "dtype: object"
      ]
     },
     "execution_count": 22,
     "metadata": {},
     "output_type": "execute_result"
    }
   ],
   "source": [
    "df_gastos.dtypes"
   ]
  },
  {
   "cell_type": "code",
   "execution_count": 23,
   "metadata": {},
   "outputs": [
    {
     "name": "stdout",
     "output_type": "stream",
     "text": [
      "Dataset transformado exportado\n"
     ]
    }
   ],
   "source": [
    "## Exportamos archivo completo y lo cambiamos en el indicador de acpm\n",
    "\n",
    "df_acpm = pd.DataFrame(df_gastos)\n",
    "df_acpm.to_csv('df_gastos.csv') \n",
    "print(\"Dataset transformado exportado\")"
   ]
  }
 ],
 "metadata": {
  "kernelspec": {
   "display_name": "Python 3",
   "language": "python",
   "name": "python3"
  },
  "language_info": {
   "codemirror_mode": {
    "name": "ipython",
    "version": 3
   },
   "file_extension": ".py",
   "mimetype": "text/x-python",
   "name": "python",
   "nbconvert_exporter": "python",
   "pygments_lexer": "ipython3",
   "version": "3.9.13"
  },
  "orig_nbformat": 4
 },
 "nbformat": 4,
 "nbformat_minor": 2
}
