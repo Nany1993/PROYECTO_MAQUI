{
 "cells": [
  {
   "attachments": {},
   "cell_type": "markdown",
   "metadata": {},
   "source": [
    "### Proceso de ETL y EDA de los datos de ACPM - MAQUIGOLDEN SAS"
   ]
  },
  {
   "attachments": {},
   "cell_type": "markdown",
   "metadata": {},
   "source": [
    "**1-Importamos librerias necesarias**"
   ]
  },
  {
   "cell_type": "code",
   "execution_count": 1,
   "metadata": {},
   "outputs": [],
   "source": [
    "import pandas as pd\n",
    "from datetime import datetime"
   ]
  },
  {
   "cell_type": "code",
   "execution_count": 2,
   "metadata": {},
   "outputs": [],
   "source": [
    "df_acpm= pd.read_excel(\"C:/Users/nany_/Escritorio/PROYECTO MAQUIGOLDEN/ACPM_1.xlsx\")\n",
    "pd.set_option('display.max_columns', None)"
   ]
  },
  {
   "cell_type": "code",
   "execution_count": 3,
   "metadata": {},
   "outputs": [
    {
     "data": {
      "text/html": [
       "<div>\n",
       "<style scoped>\n",
       "    .dataframe tbody tr th:only-of-type {\n",
       "        vertical-align: middle;\n",
       "    }\n",
       "\n",
       "    .dataframe tbody tr th {\n",
       "        vertical-align: top;\n",
       "    }\n",
       "\n",
       "    .dataframe thead th {\n",
       "        text-align: right;\n",
       "    }\n",
       "</style>\n",
       "<table border=\"1\" class=\"dataframe\">\n",
       "  <thead>\n",
       "    <tr style=\"text-align: right;\">\n",
       "      <th></th>\n",
       "      <th>Fecha</th>\n",
       "      <th>Estacion_de_Servicio</th>\n",
       "      <th>Producto</th>\n",
       "      <th>Vehiculo</th>\n",
       "      <th>Equipo/Placa</th>\n",
       "      <th>Cantidad_Galones</th>\n",
       "      <th>Costo_Total_ACPM</th>\n",
       "      <th>Actividad_Equipo</th>\n",
       "    </tr>\n",
       "  </thead>\n",
       "  <tbody>\n",
       "    <tr>\n",
       "      <th>0</th>\n",
       "      <td>2023-01-12</td>\n",
       "      <td>EDS TORRASA</td>\n",
       "      <td>CORRIENTE</td>\n",
       "      <td>NISSAN</td>\n",
       "      <td>DMM 139</td>\n",
       "      <td>13.635</td>\n",
       "      <td>117247.365</td>\n",
       "      <td>MINERIA</td>\n",
       "    </tr>\n",
       "    <tr>\n",
       "      <th>1</th>\n",
       "      <td>2023-01-12</td>\n",
       "      <td>EDS TORRASA</td>\n",
       "      <td>ACPM</td>\n",
       "      <td>VOLQUETA</td>\n",
       "      <td>JSL 245</td>\n",
       "      <td>41.275</td>\n",
       "      <td>294249.475</td>\n",
       "      <td>MINERIA</td>\n",
       "    </tr>\n",
       "    <tr>\n",
       "      <th>2</th>\n",
       "      <td>2023-01-12</td>\n",
       "      <td>EDS TORRASA</td>\n",
       "      <td>ACPM</td>\n",
       "      <td>VOLQUETA</td>\n",
       "      <td>UFZ 553</td>\n",
       "      <td>92.002</td>\n",
       "      <td>655882.258</td>\n",
       "      <td>MINERIA</td>\n",
       "    </tr>\n",
       "    <tr>\n",
       "      <th>3</th>\n",
       "      <td>2023-01-13</td>\n",
       "      <td>EDS TORRASA</td>\n",
       "      <td>ACPM</td>\n",
       "      <td>VOLQUETA</td>\n",
       "      <td>XMD 367</td>\n",
       "      <td>85.502</td>\n",
       "      <td>609543.758</td>\n",
       "      <td>MINERIA</td>\n",
       "    </tr>\n",
       "    <tr>\n",
       "      <th>4</th>\n",
       "      <td>2023-01-13</td>\n",
       "      <td>EDS TORRASA</td>\n",
       "      <td>ACPM</td>\n",
       "      <td>VOLQUETA</td>\n",
       "      <td>XVV 775</td>\n",
       "      <td>81.486</td>\n",
       "      <td>580913.694</td>\n",
       "      <td>MINERIA</td>\n",
       "    </tr>\n",
       "    <tr>\n",
       "      <th>...</th>\n",
       "      <td>...</td>\n",
       "      <td>...</td>\n",
       "      <td>...</td>\n",
       "      <td>...</td>\n",
       "      <td>...</td>\n",
       "      <td>...</td>\n",
       "      <td>...</td>\n",
       "      <td>...</td>\n",
       "    </tr>\n",
       "    <tr>\n",
       "      <th>427</th>\n",
       "      <td>2023-04-27</td>\n",
       "      <td>EDS EL REFUGIO</td>\n",
       "      <td>ACPM</td>\n",
       "      <td>MAQUINARIA</td>\n",
       "      <td>MAQUINARIA</td>\n",
       "      <td>500.000</td>\n",
       "      <td>4719000.000</td>\n",
       "      <td>MINERIA</td>\n",
       "    </tr>\n",
       "    <tr>\n",
       "      <th>428</th>\n",
       "      <td>2023-04-27</td>\n",
       "      <td>EDS EL REFUGIO</td>\n",
       "      <td>ACPM</td>\n",
       "      <td>MAQUINARIA</td>\n",
       "      <td>MAQUINARIA</td>\n",
       "      <td>500.000</td>\n",
       "      <td>4719000.000</td>\n",
       "      <td>MINERIA</td>\n",
       "    </tr>\n",
       "    <tr>\n",
       "      <th>429</th>\n",
       "      <td>2023-04-27</td>\n",
       "      <td>EDS EL REFUGIO</td>\n",
       "      <td>ACPM</td>\n",
       "      <td>MAQUINARIA</td>\n",
       "      <td>MAQUINARIA</td>\n",
       "      <td>500.000</td>\n",
       "      <td>4719000.000</td>\n",
       "      <td>MINERIA</td>\n",
       "    </tr>\n",
       "    <tr>\n",
       "      <th>430</th>\n",
       "      <td>2023-04-28</td>\n",
       "      <td>EDS EL REFUGIO</td>\n",
       "      <td>ACPM</td>\n",
       "      <td>MAQUINARIA</td>\n",
       "      <td>EQUIPO 07</td>\n",
       "      <td>60.002</td>\n",
       "      <td>566298.876</td>\n",
       "      <td>RENTA</td>\n",
       "    </tr>\n",
       "    <tr>\n",
       "      <th>431</th>\n",
       "      <td>2023-04-28</td>\n",
       "      <td>EDS EL REFUGIO</td>\n",
       "      <td>CORRIENTE</td>\n",
       "      <td>NISSAN</td>\n",
       "      <td>DMM 139</td>\n",
       "      <td>11.403</td>\n",
       "      <td>132685.308</td>\n",
       "      <td>MINERIA</td>\n",
       "    </tr>\n",
       "  </tbody>\n",
       "</table>\n",
       "<p>432 rows × 8 columns</p>\n",
       "</div>"
      ],
      "text/plain": [
       "         Fecha Estacion_de_Servicio   Producto    Vehiculo Equipo/Placa   \n",
       "0   2023-01-12          EDS TORRASA  CORRIENTE      NISSAN      DMM 139  \\\n",
       "1   2023-01-12          EDS TORRASA       ACPM    VOLQUETA      JSL 245   \n",
       "2   2023-01-12          EDS TORRASA       ACPM    VOLQUETA      UFZ 553   \n",
       "3   2023-01-13          EDS TORRASA       ACPM    VOLQUETA      XMD 367   \n",
       "4   2023-01-13          EDS TORRASA       ACPM    VOLQUETA      XVV 775   \n",
       "..         ...                  ...        ...         ...          ...   \n",
       "427 2023-04-27       EDS EL REFUGIO       ACPM  MAQUINARIA   MAQUINARIA   \n",
       "428 2023-04-27       EDS EL REFUGIO       ACPM  MAQUINARIA   MAQUINARIA   \n",
       "429 2023-04-27       EDS EL REFUGIO       ACPM  MAQUINARIA   MAQUINARIA   \n",
       "430 2023-04-28       EDS EL REFUGIO       ACPM  MAQUINARIA    EQUIPO 07   \n",
       "431 2023-04-28       EDS EL REFUGIO  CORRIENTE      NISSAN      DMM 139   \n",
       "\n",
       "     Cantidad_Galones  Costo_Total_ACPM Actividad_Equipo  \n",
       "0              13.635        117247.365          MINERIA  \n",
       "1              41.275        294249.475          MINERIA  \n",
       "2              92.002        655882.258          MINERIA  \n",
       "3              85.502        609543.758          MINERIA  \n",
       "4              81.486        580913.694          MINERIA  \n",
       "..                ...               ...              ...  \n",
       "427           500.000       4719000.000          MINERIA  \n",
       "428           500.000       4719000.000          MINERIA  \n",
       "429           500.000       4719000.000          MINERIA  \n",
       "430            60.002        566298.876            RENTA  \n",
       "431            11.403        132685.308          MINERIA  \n",
       "\n",
       "[432 rows x 8 columns]"
      ]
     },
     "execution_count": 3,
     "metadata": {},
     "output_type": "execute_result"
    }
   ],
   "source": [
    "df_acpm"
   ]
  },
  {
   "cell_type": "code",
   "execution_count": 4,
   "metadata": {},
   "outputs": [
    {
     "name": "stdout",
     "output_type": "stream",
     "text": [
      "Dataset transformado exportado\n"
     ]
    }
   ],
   "source": [
    "df_acpm = pd.DataFrame(df_acpm)\n",
    "df_acpm.to_csv('df_acpm.csv') \n",
    "print(\"Dataset transformado exportado\")"
   ]
  },
  {
   "attachments": {},
   "cell_type": "markdown",
   "metadata": {},
   "source": [
    "**Carga Incremental**"
   ]
  },
  {
   "attachments": {},
   "cell_type": "markdown",
   "metadata": {},
   "source": [
    "1-Cargue los nuevos datos:"
   ]
  },
  {
   "cell_type": "code",
   "execution_count": null,
   "metadata": {},
   "outputs": [],
   "source": [
    "'''limpielos primero en excel, deben tener solo las columnas: 'Fecha', 'Estacion_de_Servicio', 'Producto', 'Vehiculo', 'Equipo/Placa',\n",
    "       'Cantidad_Galones', 'Costo_Total_ACPM', 'Actividad_Equipo', 'Mes', 'Año'\n",
    "       '''\n",
    "       \n",
    "nuevos_datos = pd.read_csv('ruta_de_los_nuevos_datos.csv') \n"
   ]
  },
  {
   "attachments": {},
   "cell_type": "markdown",
   "metadata": {},
   "source": [
    "2-Fusionar con el anterior dataframe"
   ]
  },
  {
   "cell_type": "code",
   "execution_count": null,
   "metadata": {},
   "outputs": [],
   "source": [
    "df_actualizado = pd.concat([df_acpm, nuevos_datos])"
   ]
  },
  {
   "attachments": {},
   "cell_type": "markdown",
   "metadata": {},
   "source": [
    "4-Actualizar el dataframe existente"
   ]
  },
  {
   "cell_type": "code",
   "execution_count": null,
   "metadata": {},
   "outputs": [],
   "source": [
    "df_acpm = df_actualizado"
   ]
  },
  {
   "attachments": {},
   "cell_type": "markdown",
   "metadata": {},
   "source": [
    "5-Exporte y guardar"
   ]
  },
  {
   "cell_type": "code",
   "execution_count": null,
   "metadata": {},
   "outputs": [],
   "source": [
    "## Exportamos archivo completo y lo cambiamos en el indicador de acpm\n",
    "\n",
    "df_acpm = pd.DataFrame(df_acpm)\n",
    "df_acpm.to_csv('df_acpm_fecha.csv') #dia/mes/año\n",
    "print(\"Dataset transformado exportado\")"
   ]
  }
 ],
 "metadata": {
  "kernelspec": {
   "display_name": "Python 3",
   "language": "python",
   "name": "python3"
  },
  "language_info": {
   "codemirror_mode": {
    "name": "ipython",
    "version": 3
   },
   "file_extension": ".py",
   "mimetype": "text/x-python",
   "name": "python",
   "nbconvert_exporter": "python",
   "pygments_lexer": "ipython3",
   "version": "3.9.13"
  },
  "orig_nbformat": 4
 },
 "nbformat": 4,
 "nbformat_minor": 2
}
